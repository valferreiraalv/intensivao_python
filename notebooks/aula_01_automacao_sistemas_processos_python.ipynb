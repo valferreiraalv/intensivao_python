{
 "cells": [
  {
   "cell_type": "markdown",
   "metadata": {
    "id": "5K2pA4V31Dao"
   },
   "source": [
    "# Automação de Sistemas e Processos com Python\n",
    "\n",
    "### Desafio:\n",
    "\n",
    "Todos os dias, o nosso sistema atualiza as vendas do dia anterior.\n",
    "O seu trabalho diário, como analista, é enviar um e-mail para a diretoria, assim que começar a trabalhar, com o faturamento e a quantidade de produtos vendidos no dia anterior\n",
    "\n",
    "E-mail da diretoria: seugmail+diretoria@gmail.com<br>\n",
    "Local onde o sistema disponibiliza as vendas do dia anterior: https://drive.google.com/drive/folders/149xknr9JvrlEnhNWO49zPcw0PW5icxga?usp=sharing\n",
    "\n",
    "Para resolver isso, vamos usar o pyautogui, uma biblioteca de automação de comandos do mouse e do teclado\n",
    "\n",
    "Comandos pyautogui: https://pyautogui.readthedocs.io/en/latest/quickstart.html"
   ]
  },
  {
   "cell_type": "code",
   "execution_count": null,
   "metadata": {},
   "outputs": [],
   "source": [
    "!pip install pyautogui"
   ]
  },
  {
   "cell_type": "code",
   "execution_count": null,
   "metadata": {
    "id": "5f_G-vGt1Dar"
   },
   "outputs": [],
   "source": [
    "import pyautogui\n",
    "import pyperclip\n",
    "import time\n",
    "\n",
    "pyautogui.PAUSE = 1\n",
    "\n",
    "# Passo 1: Entrar no sistema (no nosso caso, entrar no link)\n",
    "pyautogui.hotkey(\"ctrl\", \"t\")\n",
    "pyperclip.copy(\"https://drive.google.com/drive/folders/149xknr9JvrlEnhNWO49zPcw0PW5icxga?usp=sharing\")\n",
    "pyautogui.hotkey(\"ctrl\", \"v\")\n",
    "pyautogui.press(\"enter\")\n",
    "\n",
    "time.sleep(5)\n",
    "\n",
    "# Passo 2: Navegar até o local do relatório (entrar na pasta Exportar)\n",
    "pyautogui.click(x=165, y=277, clicks=2)\n",
    "time.sleep(2)\n",
    "\n",
    "# Passo 3: Fazer o download do relatório\n",
    "pyautogui.click(x=196, y=316) # clicou no arquivo\n",
    "pyautogui.click(x=1161, y=158) # clicou nos 3 pontos\n",
    "pyautogui.click(x=946, y=558) # fazer download\n",
    "time.sleep(5)"
   ]
  },
  {
   "cell_type": "markdown",
   "metadata": {
    "id": "AJ4xbjaD1Da2"
   },
   "source": [
    "### Vamos agora ler o arquivo baixado para pegar os indicadores\n",
    "\n",
    "- Faturamento\n",
    "- Quantidade de Produtos"
   ]
  },
  {
   "cell_type": "code",
   "execution_count": null,
   "metadata": {
    "id": "3xiti-qO1Da3",
    "outputId": "14cc8914-08c2-4595-a3dc-28dddd9a63d7"
   },
   "outputs": [],
   "source": [
    "# Passo 4: Calcular os indicadores (faturamento, quantidade de produtos)\n",
    "import pandas as pd\n",
    "\n",
    "tabela = pd.read_excel(r\"C:\\Users\\ferki\\intensivao_python\\aula_01/Vendas - Dez.xlsx\")\n",
    "display(tabela)"
   ]
  },
  {
   "cell_type": "code",
   "execution_count": null,
   "metadata": {},
   "outputs": [],
   "source": [
    "faturamento = tabela[\"Valor Final\"].sum()\n",
    "quantidade = tabela[\"Quantidade\"].sum()\n",
    "\n",
    "print(faturamento)\n",
    "print(quantidade)"
   ]
  },
  {
   "cell_type": "markdown",
   "metadata": {
    "id": "LhVETVV51Da4"
   },
   "source": [
    "### Vamos agora enviar um e-mail pelo gmail"
   ]
  },
  {
   "cell_type": "code",
   "execution_count": null,
   "metadata": {
    "id": "_ZMlSWs21Da5"
   },
   "outputs": [],
   "source": [
    "# Passo 5: Entrar no email\n",
    "pyautogui.hotkey(\"ctrl\", \"t\") # abrir uma nova aba\n",
    "pyperclip.copy(\"https://mail.google.com/mail/u/0/#inbox\") # copiar o link\n",
    "pyautogui.hotkey(\"ctrl\", \"v\") # colar o link\n",
    "pyautogui.press(\"enter\") # entrando no site\n",
    "time.sleep(5)\n",
    "\n",
    "# Passo 6: Enviar por e-mail o resultado\n",
    "pyautogui.click(x=86, y=434)\n",
    "time.sleep(4)\n",
    "\n",
    "pyautogui.write(\"pythonimpressionador+diretoria@gmail.com\")\n",
    "pyautogui.press(\"tab\") # seleciona o email\n",
    "# escreve outro email\n",
    "# tab\n",
    "# escreve outro email\n",
    "# tab\n",
    "pyautogui.press(\"tab\") # pula pro campo de assunto\n",
    "pyperclip.copy(\"Relatório de Vendas\")\n",
    "pyautogui.hotkey(\"ctrl\", \"v\") # escrever o assunto\n",
    "pyautogui.press(\"tab\") #pular pro corpo do email\n",
    "\n",
    "texto = f\"\"\"\n",
    "Prezados, bom dia\n",
    "\n",
    "O faturamento de ontem foi de: R${faturamento:,.2f}\n",
    "A quantidade de produtos foi de: {quantidade:,}\n",
    "\n",
    "Abs\n",
    "LiraPython\"\"\"\n",
    "\n",
    "pyperclip.copy(texto)\n",
    "pyautogui.hotkey(\"ctrl\", \"v\")\n",
    "\n",
    "# clicar no botão enviar\n",
    "\n",
    "# apertar Ctrl Enter\n",
    "pyautogui.hotkey(\"ctrl\", \"enter\")"
   ]
  },
  {
   "cell_type": "markdown",
   "metadata": {
    "id": "AFyJwkvM1Da6"
   },
   "source": [
    "#### Use esse código para descobrir qual a posição de um item que queira clicar\n",
    "\n",
    "- Lembre-se: a posição na sua tela é diferente da posição na minha tela"
   ]
  },
  {
   "cell_type": "code",
   "execution_count": null,
   "metadata": {
    "id": "G5foWvKn1Da7",
    "outputId": "aa721891-943c-4672-b016-a423cdad0d65"
   },
   "outputs": [],
   "source": [
    "time.sleep(5)\n",
    "pyautogui.position()"
   ]
  },
  {
   "cell_type": "code",
   "execution_count": null,
   "metadata": {
    "id": "g0qe_O371Da7",
    "outputId": "d73aff2d-c372-4358-d67a-b1ff9c496acb"
   },
   "outputs": [],
   "source": [
    "# Como instalar\n",
    "!pip install pyautogui\n",
    "!pip install pyperclip"
   ]
  },
  {
   "cell_type": "code",
   "execution_count": null,
   "metadata": {
    "id": "fGad5IhF1Da8"
   },
   "outputs": [],
   "source": []
  }
 ],
 "metadata": {
  "colab": {
   "name": "Aula 1 - Gabarito.ipynb",
   "provenance": []
  },
  "kernelspec": {
   "display_name": "Python 3",
   "language": "python",
   "name": "python3"
  },
  "language_info": {
   "codemirror_mode": {
    "name": "ipython",
    "version": 3
   },
   "file_extension": ".py",
   "mimetype": "text/x-python",
   "name": "python",
   "nbconvert_exporter": "python",
   "pygments_lexer": "ipython3",
   "version": "3.8.3"
  }
 },
 "nbformat": 4,
 "nbformat_minor": 1
}
